{
 "cells": [
  {
   "cell_type": "markdown",
   "id": "de6eeada-b7b5-4a1a-af37-38efbc6bb11b",
   "metadata": {},
   "source": [
    "Install dependencies if not already installed"
   ]
  },
  {
   "cell_type": "code",
   "execution_count": 16,
   "id": "e5c95dc9-0265-477c-aebe-e70a500bead6",
   "metadata": {},
   "outputs": [],
   "source": [
    "#!pip install GEOparse pandas matplotlib numpy pyDESeq2"
   ]
  },
  {
   "cell_type": "markdown",
   "id": "be824746-d74e-412e-90df-076d01513721",
   "metadata": {},
   "source": [
    "## 1. Import Libraries"
   ]
  },
  {
   "cell_type": "code",
   "execution_count": 17,
   "id": "9900fefd-204e-4d06-8bf3-56d50d045a7e",
   "metadata": {},
   "outputs": [],
   "source": [
    "import GEOparse\n",
    "import pandas as pd\n",
    "import matplotlib.pyplot as plt\n",
    "import numpy as np\n",
    "\n",
    "from pydeseq2.dds import DeseqDataSet\n",
    "from pydeseq2.ds import DeseqStats"
   ]
  },
  {
   "cell_type": "markdown",
   "id": "efb5684c-a621-4a6f-9547-892649114959",
   "metadata": {},
   "source": [
    "## 2. Download the GEO dataset"
   ]
  },
  {
   "cell_type": "code",
   "execution_count": 18,
   "id": "2d44663a-80a2-40a9-ac42-ae83d1ecd162",
   "metadata": {},
   "outputs": [
    {
     "name": "stderr",
     "output_type": "stream",
     "text": [
      "05-Oct-2025 20:04:46 DEBUG utils - Directory ./data already exists. Skipping.\n",
      "05-Oct-2025 20:04:46 INFO GEOparse - File already exist: using local version.\n",
      "05-Oct-2025 20:04:46 INFO GEOparse - Parsing ./data\\GSE268683_family.soft.gz: \n",
      "05-Oct-2025 20:04:46 DEBUG GEOparse - DATABASE: GeoMiame\n",
      "05-Oct-2025 20:04:46 DEBUG GEOparse - SERIES: GSE268683\n",
      "05-Oct-2025 20:04:46 DEBUG GEOparse - PLATFORM: GPL34537\n",
      "05-Oct-2025 20:04:46 DEBUG GEOparse - SAMPLE: GSM8296406\n",
      "05-Oct-2025 20:04:46 DEBUG GEOparse - SAMPLE: GSM8296407\n",
      "05-Oct-2025 20:04:46 DEBUG GEOparse - SAMPLE: GSM8296408\n",
      "05-Oct-2025 20:04:46 DEBUG GEOparse - SAMPLE: GSM8296409\n",
      "05-Oct-2025 20:04:46 DEBUG GEOparse - SAMPLE: GSM8296410\n",
      "05-Oct-2025 20:04:46 DEBUG GEOparse - SAMPLE: GSM8296411\n",
      "05-Oct-2025 20:04:46 DEBUG GEOparse - SAMPLE: GSM8296412\n",
      "05-Oct-2025 20:04:46 DEBUG GEOparse - SAMPLE: GSM8296413\n",
      "05-Oct-2025 20:04:46 DEBUG GEOparse - SAMPLE: GSM8296414\n",
      "05-Oct-2025 20:04:46 DEBUG GEOparse - SAMPLE: GSM8296415\n",
      "05-Oct-2025 20:04:46 DEBUG GEOparse - SAMPLE: GSM8296416\n",
      "05-Oct-2025 20:04:46 DEBUG GEOparse - SAMPLE: GSM8296417\n",
      "05-Oct-2025 20:04:46 DEBUG GEOparse - SAMPLE: GSM8296418\n",
      "05-Oct-2025 20:04:46 DEBUG GEOparse - SAMPLE: GSM8296419\n",
      "05-Oct-2025 20:04:46 DEBUG GEOparse - SAMPLE: GSM8296420\n",
      "05-Oct-2025 20:04:46 DEBUG GEOparse - SAMPLE: GSM8296421\n",
      "05-Oct-2025 20:04:46 DEBUG GEOparse - SAMPLE: GSM8296422\n",
      "05-Oct-2025 20:04:46 DEBUG GEOparse - SAMPLE: GSM8296423\n",
      "05-Oct-2025 20:04:46 DEBUG GEOparse - SAMPLE: GSM8296424\n",
      "05-Oct-2025 20:04:46 DEBUG GEOparse - SAMPLE: GSM8296425\n",
      "05-Oct-2025 20:04:46 DEBUG GEOparse - SAMPLE: GSM8296426\n",
      "05-Oct-2025 20:04:46 DEBUG GEOparse - SAMPLE: GSM8296427\n",
      "05-Oct-2025 20:04:46 DEBUG GEOparse - SAMPLE: GSM8296428\n",
      "05-Oct-2025 20:04:46 DEBUG GEOparse - SAMPLE: GSM8296429\n",
      "05-Oct-2025 20:04:46 DEBUG GEOparse - SAMPLE: GSM8296430\n",
      "05-Oct-2025 20:04:46 DEBUG GEOparse - SAMPLE: GSM8296431\n",
      "05-Oct-2025 20:04:46 DEBUG GEOparse - SAMPLE: GSM8296432\n",
      "05-Oct-2025 20:04:46 DEBUG GEOparse - SAMPLE: GSM8296433\n",
      "05-Oct-2025 20:04:46 DEBUG GEOparse - SAMPLE: GSM8296434\n",
      "05-Oct-2025 20:04:46 DEBUG GEOparse - SAMPLE: GSM8296435\n",
      "05-Oct-2025 20:04:46 DEBUG GEOparse - SAMPLE: GSM8296436\n",
      "05-Oct-2025 20:04:46 DEBUG GEOparse - SAMPLE: GSM8296437\n",
      "05-Oct-2025 20:04:46 DEBUG GEOparse - SAMPLE: GSM8296438\n",
      "05-Oct-2025 20:04:46 DEBUG GEOparse - SAMPLE: GSM8296439\n",
      "05-Oct-2025 20:04:46 DEBUG GEOparse - SAMPLE: GSM8296440\n",
      "05-Oct-2025 20:04:46 DEBUG GEOparse - SAMPLE: GSM8296441\n",
      "05-Oct-2025 20:04:46 DEBUG GEOparse - SAMPLE: GSM8296442\n",
      "05-Oct-2025 20:04:46 DEBUG GEOparse - SAMPLE: GSM8296443\n",
      "05-Oct-2025 20:04:46 DEBUG GEOparse - SAMPLE: GSM8296444\n",
      "05-Oct-2025 20:04:46 DEBUG GEOparse - SAMPLE: GSM8296445\n",
      "05-Oct-2025 20:04:46 DEBUG GEOparse - SAMPLE: GSM8296446\n",
      "05-Oct-2025 20:04:46 DEBUG GEOparse - SAMPLE: GSM8296447\n",
      "05-Oct-2025 20:04:46 DEBUG GEOparse - SAMPLE: GSM8296448\n",
      "05-Oct-2025 20:04:46 DEBUG GEOparse - SAMPLE: GSM8296449\n",
      "05-Oct-2025 20:04:46 DEBUG GEOparse - SAMPLE: GSM8296450\n",
      "05-Oct-2025 20:04:46 DEBUG GEOparse - SAMPLE: GSM8296451\n",
      "05-Oct-2025 20:04:46 DEBUG GEOparse - SAMPLE: GSM8296452\n",
      "05-Oct-2025 20:04:46 DEBUG GEOparse - SAMPLE: GSM8296453\n"
     ]
    }
   ],
   "source": [
    "# Replace with your GEO accession\n",
    "gse_id =\"GSE268683\"\n",
    "gse = GEOparse.get_GEO(gse_id, destdir=\"./data\")"
   ]
  },
  {
   "cell_type": "code",
   "execution_count": 19,
   "id": "33c08863-80db-4e63-aeba-f26237b5656c",
   "metadata": {},
   "outputs": [
    {
     "name": "stdout",
     "output_type": "stream",
     "text": [
      "Dataset: GSE268683\n",
      "Title: Music elicits different gene expression responses in the buccal cavity of age-related cognitive disorders patients and healthy controls.\n",
      "Samples: 48\n"
     ]
    }
   ],
   "source": [
    "print(f\"Dataset: {gse_id}\")\n",
    "print(f\"Title: {gse.metadata['title'][0]}\")\n",
    "print(f\"Samples: {len(gse.gsms)}\")"
   ]
  },
  {
   "cell_type": "markdown",
   "id": "0b571a0e-8743-403c-b841-ace80333c0e0",
   "metadata": {},
   "source": [
    "## 3. Extract expression data"
   ]
  },
  {
   "cell_type": "markdown",
   "id": "d88003b6-8bd7-40cb-a753-4f51af3a4470",
   "metadata": {},
   "source": [
    "Expression Matrix is a table where rows are genes and columns are samples (like different patients or conditions). The values are the raw read counts (for RNA-seq) or expression levels."
   ]
  },
  {
   "cell_type": "code",
   "execution_count": 20,
   "id": "fc29c91e-bb36-40c2-a223-b314e6589de5",
   "metadata": {},
   "outputs": [],
   "source": [
    "#  Pivot samples to get genes as rows, samples as columns\n",
    "expression_data = gse.pivot_samples(values='VALUE')"
   ]
  },
  {
   "cell_type": "code",
   "execution_count": 21,
   "id": "9d08617e-bad5-4714-84ca-9b20ddf780f9",
   "metadata": {},
   "outputs": [
    {
     "name": "stdout",
     "output_type": "stream",
     "text": [
      "Shape of expression_data: (785, 48)\n"
     ]
    }
   ],
   "source": [
    "print(\"Shape of expression_data:\",expression_data.shape)"
   ]
  },
  {
   "cell_type": "code",
   "execution_count": 22,
   "id": "81996aee-c3db-4809-89ff-8607bcc9f8c7",
   "metadata": {},
   "outputs": [
    {
     "data": {
      "text/html": [
       "<div>\n",
       "<style scoped>\n",
       "    .dataframe tbody tr th:only-of-type {\n",
       "        vertical-align: middle;\n",
       "    }\n",
       "\n",
       "    .dataframe tbody tr th {\n",
       "        vertical-align: top;\n",
       "    }\n",
       "\n",
       "    .dataframe thead th {\n",
       "        text-align: right;\n",
       "    }\n",
       "</style>\n",
       "<table border=\"1\" class=\"dataframe\">\n",
       "  <thead>\n",
       "    <tr style=\"text-align: right;\">\n",
       "      <th>name</th>\n",
       "      <th>GSM8296406</th>\n",
       "      <th>GSM8296407</th>\n",
       "      <th>GSM8296408</th>\n",
       "      <th>GSM8296409</th>\n",
       "      <th>GSM8296410</th>\n",
       "      <th>GSM8296411</th>\n",
       "      <th>GSM8296412</th>\n",
       "      <th>GSM8296413</th>\n",
       "      <th>GSM8296414</th>\n",
       "      <th>GSM8296415</th>\n",
       "      <th>...</th>\n",
       "      <th>GSM8296444</th>\n",
       "      <th>GSM8296445</th>\n",
       "      <th>GSM8296446</th>\n",
       "      <th>GSM8296447</th>\n",
       "      <th>GSM8296448</th>\n",
       "      <th>GSM8296449</th>\n",
       "      <th>GSM8296450</th>\n",
       "      <th>GSM8296451</th>\n",
       "      <th>GSM8296452</th>\n",
       "      <th>GSM8296453</th>\n",
       "    </tr>\n",
       "    <tr>\n",
       "      <th>ID_REF</th>\n",
       "      <th></th>\n",
       "      <th></th>\n",
       "      <th></th>\n",
       "      <th></th>\n",
       "      <th></th>\n",
       "      <th></th>\n",
       "      <th></th>\n",
       "      <th></th>\n",
       "      <th></th>\n",
       "      <th></th>\n",
       "      <th></th>\n",
       "      <th></th>\n",
       "      <th></th>\n",
       "      <th></th>\n",
       "      <th></th>\n",
       "      <th></th>\n",
       "      <th></th>\n",
       "      <th></th>\n",
       "      <th></th>\n",
       "      <th></th>\n",
       "      <th></th>\n",
       "    </tr>\n",
       "  </thead>\n",
       "  <tbody>\n",
       "    <tr>\n",
       "      <th>ABCF1</th>\n",
       "      <td>29</td>\n",
       "      <td>17</td>\n",
       "      <td>35</td>\n",
       "      <td>24</td>\n",
       "      <td>68</td>\n",
       "      <td>23</td>\n",
       "      <td>41</td>\n",
       "      <td>24</td>\n",
       "      <td>114</td>\n",
       "      <td>47</td>\n",
       "      <td>...</td>\n",
       "      <td>127</td>\n",
       "      <td>200</td>\n",
       "      <td>8</td>\n",
       "      <td>27</td>\n",
       "      <td>211</td>\n",
       "      <td>20</td>\n",
       "      <td>76</td>\n",
       "      <td>22</td>\n",
       "      <td>52</td>\n",
       "      <td>67</td>\n",
       "    </tr>\n",
       "    <tr>\n",
       "      <th>ACE</th>\n",
       "      <td>12</td>\n",
       "      <td>12</td>\n",
       "      <td>10</td>\n",
       "      <td>9</td>\n",
       "      <td>9</td>\n",
       "      <td>6</td>\n",
       "      <td>11</td>\n",
       "      <td>8</td>\n",
       "      <td>9</td>\n",
       "      <td>5</td>\n",
       "      <td>...</td>\n",
       "      <td>8</td>\n",
       "      <td>14</td>\n",
       "      <td>10</td>\n",
       "      <td>4</td>\n",
       "      <td>7</td>\n",
       "      <td>9</td>\n",
       "      <td>14</td>\n",
       "      <td>10</td>\n",
       "      <td>10</td>\n",
       "      <td>10</td>\n",
       "    </tr>\n",
       "    <tr>\n",
       "      <th>ACKR2</th>\n",
       "      <td>12</td>\n",
       "      <td>7</td>\n",
       "      <td>6</td>\n",
       "      <td>7</td>\n",
       "      <td>17</td>\n",
       "      <td>4</td>\n",
       "      <td>17</td>\n",
       "      <td>15</td>\n",
       "      <td>47</td>\n",
       "      <td>13</td>\n",
       "      <td>...</td>\n",
       "      <td>41</td>\n",
       "      <td>42</td>\n",
       "      <td>3</td>\n",
       "      <td>4</td>\n",
       "      <td>51</td>\n",
       "      <td>3</td>\n",
       "      <td>28</td>\n",
       "      <td>17</td>\n",
       "      <td>37</td>\n",
       "      <td>13</td>\n",
       "    </tr>\n",
       "    <tr>\n",
       "      <th>ACKR3</th>\n",
       "      <td>35</td>\n",
       "      <td>17</td>\n",
       "      <td>15</td>\n",
       "      <td>20</td>\n",
       "      <td>60</td>\n",
       "      <td>27</td>\n",
       "      <td>20</td>\n",
       "      <td>14</td>\n",
       "      <td>264</td>\n",
       "      <td>69</td>\n",
       "      <td>...</td>\n",
       "      <td>40</td>\n",
       "      <td>38</td>\n",
       "      <td>15</td>\n",
       "      <td>14</td>\n",
       "      <td>99</td>\n",
       "      <td>15</td>\n",
       "      <td>25</td>\n",
       "      <td>30</td>\n",
       "      <td>185</td>\n",
       "      <td>184</td>\n",
       "    </tr>\n",
       "    <tr>\n",
       "      <th>ACKR4</th>\n",
       "      <td>11</td>\n",
       "      <td>7</td>\n",
       "      <td>4</td>\n",
       "      <td>8</td>\n",
       "      <td>18</td>\n",
       "      <td>3</td>\n",
       "      <td>9</td>\n",
       "      <td>7</td>\n",
       "      <td>10</td>\n",
       "      <td>13</td>\n",
       "      <td>...</td>\n",
       "      <td>14</td>\n",
       "      <td>12</td>\n",
       "      <td>7</td>\n",
       "      <td>4</td>\n",
       "      <td>9</td>\n",
       "      <td>12</td>\n",
       "      <td>7</td>\n",
       "      <td>6</td>\n",
       "      <td>14</td>\n",
       "      <td>10</td>\n",
       "    </tr>\n",
       "  </tbody>\n",
       "</table>\n",
       "<p>5 rows × 48 columns</p>\n",
       "</div>"
      ],
      "text/plain": [
       "name    GSM8296406  GSM8296407  GSM8296408  GSM8296409  GSM8296410  \\\n",
       "ID_REF                                                               \n",
       "ABCF1           29          17          35          24          68   \n",
       "ACE             12          12          10           9           9   \n",
       "ACKR2           12           7           6           7          17   \n",
       "ACKR3           35          17          15          20          60   \n",
       "ACKR4           11           7           4           8          18   \n",
       "\n",
       "name    GSM8296411  GSM8296412  GSM8296413  GSM8296414  GSM8296415  ...  \\\n",
       "ID_REF                                                              ...   \n",
       "ABCF1           23          41          24         114          47  ...   \n",
       "ACE              6          11           8           9           5  ...   \n",
       "ACKR2            4          17          15          47          13  ...   \n",
       "ACKR3           27          20          14         264          69  ...   \n",
       "ACKR4            3           9           7          10          13  ...   \n",
       "\n",
       "name    GSM8296444  GSM8296445  GSM8296446  GSM8296447  GSM8296448  \\\n",
       "ID_REF                                                               \n",
       "ABCF1          127         200           8          27         211   \n",
       "ACE              8          14          10           4           7   \n",
       "ACKR2           41          42           3           4          51   \n",
       "ACKR3           40          38          15          14          99   \n",
       "ACKR4           14          12           7           4           9   \n",
       "\n",
       "name    GSM8296449  GSM8296450  GSM8296451  GSM8296452  GSM8296453  \n",
       "ID_REF                                                              \n",
       "ABCF1           20          76          22          52          67  \n",
       "ACE              9          14          10          10          10  \n",
       "ACKR2            3          28          17          37          13  \n",
       "ACKR3           15          25          30         185         184  \n",
       "ACKR4           12           7           6          14          10  \n",
       "\n",
       "[5 rows x 48 columns]"
      ]
     },
     "execution_count": 22,
     "metadata": {},
     "output_type": "execute_result"
    }
   ],
   "source": [
    "expression_data.head()"
   ]
  },
  {
   "cell_type": "markdown",
   "id": "fc06d07a-b18f-442a-82c8-0275d0010d5c",
   "metadata": {},
   "source": [
    "## 4. Build Metadata Table"
   ]
  },
  {
   "cell_type": "markdown",
   "id": "0efdbb3d-3b87-48f7-a37b-539c1e63cb6c",
   "metadata": {},
   "source": [
    "Metadata is a table with information about each sample, such as the experimental condition (e.g., 'Treated' vs. 'Control'), age, tissue type, etc. This info is critical for differential expression analysis."
   ]
  },
  {
   "cell_type": "code",
   "execution_count": 23,
   "id": "a4b5887f-c060-4655-93d4-df9017444f12",
   "metadata": {},
   "outputs": [
    {
     "data": {
      "text/html": [
       "<div>\n",
       "<style scoped>\n",
       "    .dataframe tbody tr th:only-of-type {\n",
       "        vertical-align: middle;\n",
       "    }\n",
       "\n",
       "    .dataframe tbody tr th {\n",
       "        vertical-align: top;\n",
       "    }\n",
       "\n",
       "    .dataframe thead th {\n",
       "        text-align: right;\n",
       "    }\n",
       "</style>\n",
       "<table border=\"1\" class=\"dataframe\">\n",
       "  <thead>\n",
       "    <tr style=\"text-align: right;\">\n",
       "      <th></th>\n",
       "      <th>title</th>\n",
       "      <th>geo_accession</th>\n",
       "      <th>status</th>\n",
       "      <th>submission_date</th>\n",
       "      <th>last_update_date</th>\n",
       "      <th>type</th>\n",
       "      <th>channel_count</th>\n",
       "      <th>source_name_ch1</th>\n",
       "      <th>organism_ch1</th>\n",
       "      <th>taxid_ch1</th>\n",
       "      <th>...</th>\n",
       "      <th>contact_department</th>\n",
       "      <th>contact_institute</th>\n",
       "      <th>contact_address</th>\n",
       "      <th>contact_city</th>\n",
       "      <th>contact_state</th>\n",
       "      <th>contact_zip/postal_code</th>\n",
       "      <th>contact_country</th>\n",
       "      <th>supplementary_file</th>\n",
       "      <th>series_id</th>\n",
       "      <th>data_row_count</th>\n",
       "    </tr>\n",
       "  </thead>\n",
       "  <tbody>\n",
       "    <tr>\n",
       "      <th>GSM8296406</th>\n",
       "      <td>B4470-1</td>\n",
       "      <td>GSM8296406</td>\n",
       "      <td>Public on Sep 10 2025</td>\n",
       "      <td>May 30 2024</td>\n",
       "      <td>Sep 10 2025</td>\n",
       "      <td>RNA</td>\n",
       "      <td>1</td>\n",
       "      <td>Saliva</td>\n",
       "      <td>Homo sapiens</td>\n",
       "      <td>9606</td>\n",
       "      <td>...</td>\n",
       "      <td>Pediatrics</td>\n",
       "      <td>GENVIP research group</td>\n",
       "      <td>Choupana sn</td>\n",
       "      <td>Santiago de Compostela</td>\n",
       "      <td>A coruÃ±a</td>\n",
       "      <td>15706</td>\n",
       "      <td>Spain</td>\n",
       "      <td>ftp://ftp.ncbi.nlm.nih.gov/geo/samples/GSM8296...</td>\n",
       "      <td>GSE268683</td>\n",
       "      <td>785</td>\n",
       "    </tr>\n",
       "    <tr>\n",
       "      <th>GSM8296407</th>\n",
       "      <td>B4470-2</td>\n",
       "      <td>GSM8296407</td>\n",
       "      <td>Public on Sep 10 2025</td>\n",
       "      <td>May 30 2024</td>\n",
       "      <td>Sep 10 2025</td>\n",
       "      <td>RNA</td>\n",
       "      <td>1</td>\n",
       "      <td>Saliva</td>\n",
       "      <td>Homo sapiens</td>\n",
       "      <td>9606</td>\n",
       "      <td>...</td>\n",
       "      <td>Pediatrics</td>\n",
       "      <td>GENVIP research group</td>\n",
       "      <td>Choupana sn</td>\n",
       "      <td>Santiago de Compostela</td>\n",
       "      <td>A coruÃ±a</td>\n",
       "      <td>15706</td>\n",
       "      <td>Spain</td>\n",
       "      <td>ftp://ftp.ncbi.nlm.nih.gov/geo/samples/GSM8296...</td>\n",
       "      <td>GSE268683</td>\n",
       "      <td>785</td>\n",
       "    </tr>\n",
       "    <tr>\n",
       "      <th>GSM8296408</th>\n",
       "      <td>1006-1</td>\n",
       "      <td>GSM8296408</td>\n",
       "      <td>Public on Sep 10 2025</td>\n",
       "      <td>May 30 2024</td>\n",
       "      <td>Sep 10 2025</td>\n",
       "      <td>RNA</td>\n",
       "      <td>1</td>\n",
       "      <td>Saliva</td>\n",
       "      <td>Homo sapiens</td>\n",
       "      <td>9606</td>\n",
       "      <td>...</td>\n",
       "      <td>Pediatrics</td>\n",
       "      <td>GENVIP research group</td>\n",
       "      <td>Choupana sn</td>\n",
       "      <td>Santiago de Compostela</td>\n",
       "      <td>A coruÃ±a</td>\n",
       "      <td>15706</td>\n",
       "      <td>Spain</td>\n",
       "      <td>ftp://ftp.ncbi.nlm.nih.gov/geo/samples/GSM8296...</td>\n",
       "      <td>GSE268683</td>\n",
       "      <td>785</td>\n",
       "    </tr>\n",
       "    <tr>\n",
       "      <th>GSM8296409</th>\n",
       "      <td>1006-2</td>\n",
       "      <td>GSM8296409</td>\n",
       "      <td>Public on Sep 10 2025</td>\n",
       "      <td>May 30 2024</td>\n",
       "      <td>Sep 10 2025</td>\n",
       "      <td>RNA</td>\n",
       "      <td>1</td>\n",
       "      <td>Saliva</td>\n",
       "      <td>Homo sapiens</td>\n",
       "      <td>9606</td>\n",
       "      <td>...</td>\n",
       "      <td>Pediatrics</td>\n",
       "      <td>GENVIP research group</td>\n",
       "      <td>Choupana sn</td>\n",
       "      <td>Santiago de Compostela</td>\n",
       "      <td>A coruÃ±a</td>\n",
       "      <td>15706</td>\n",
       "      <td>Spain</td>\n",
       "      <td>ftp://ftp.ncbi.nlm.nih.gov/geo/samples/GSM8296...</td>\n",
       "      <td>GSE268683</td>\n",
       "      <td>785</td>\n",
       "    </tr>\n",
       "    <tr>\n",
       "      <th>GSM8296410</th>\n",
       "      <td>1007-1</td>\n",
       "      <td>GSM8296410</td>\n",
       "      <td>Public on Sep 10 2025</td>\n",
       "      <td>May 30 2024</td>\n",
       "      <td>Sep 10 2025</td>\n",
       "      <td>RNA</td>\n",
       "      <td>1</td>\n",
       "      <td>Saliva</td>\n",
       "      <td>Homo sapiens</td>\n",
       "      <td>9606</td>\n",
       "      <td>...</td>\n",
       "      <td>Pediatrics</td>\n",
       "      <td>GENVIP research group</td>\n",
       "      <td>Choupana sn</td>\n",
       "      <td>Santiago de Compostela</td>\n",
       "      <td>A coruÃ±a</td>\n",
       "      <td>15706</td>\n",
       "      <td>Spain</td>\n",
       "      <td>ftp://ftp.ncbi.nlm.nih.gov/geo/samples/GSM8296...</td>\n",
       "      <td>GSE268683</td>\n",
       "      <td>785</td>\n",
       "    </tr>\n",
       "  </tbody>\n",
       "</table>\n",
       "<p>5 rows × 38 columns</p>\n",
       "</div>"
      ],
      "text/plain": [
       "              title geo_accession                 status submission_date  \\\n",
       "GSM8296406  B4470-1    GSM8296406  Public on Sep 10 2025     May 30 2024   \n",
       "GSM8296407  B4470-2    GSM8296407  Public on Sep 10 2025     May 30 2024   \n",
       "GSM8296408   1006-1    GSM8296408  Public on Sep 10 2025     May 30 2024   \n",
       "GSM8296409   1006-2    GSM8296409  Public on Sep 10 2025     May 30 2024   \n",
       "GSM8296410   1007-1    GSM8296410  Public on Sep 10 2025     May 30 2024   \n",
       "\n",
       "           last_update_date type channel_count source_name_ch1  organism_ch1  \\\n",
       "GSM8296406      Sep 10 2025  RNA             1          Saliva  Homo sapiens   \n",
       "GSM8296407      Sep 10 2025  RNA             1          Saliva  Homo sapiens   \n",
       "GSM8296408      Sep 10 2025  RNA             1          Saliva  Homo sapiens   \n",
       "GSM8296409      Sep 10 2025  RNA             1          Saliva  Homo sapiens   \n",
       "GSM8296410      Sep 10 2025  RNA             1          Saliva  Homo sapiens   \n",
       "\n",
       "           taxid_ch1  ... contact_department      contact_institute  \\\n",
       "GSM8296406      9606  ...         Pediatrics  GENVIP research group   \n",
       "GSM8296407      9606  ...         Pediatrics  GENVIP research group   \n",
       "GSM8296408      9606  ...         Pediatrics  GENVIP research group   \n",
       "GSM8296409      9606  ...         Pediatrics  GENVIP research group   \n",
       "GSM8296410      9606  ...         Pediatrics  GENVIP research group   \n",
       "\n",
       "           contact_address            contact_city contact_state  \\\n",
       "GSM8296406     Choupana sn  Santiago de Compostela     A coruÃ±a   \n",
       "GSM8296407     Choupana sn  Santiago de Compostela     A coruÃ±a   \n",
       "GSM8296408     Choupana sn  Santiago de Compostela     A coruÃ±a   \n",
       "GSM8296409     Choupana sn  Santiago de Compostela     A coruÃ±a   \n",
       "GSM8296410     Choupana sn  Santiago de Compostela     A coruÃ±a   \n",
       "\n",
       "           contact_zip/postal_code contact_country  \\\n",
       "GSM8296406                   15706           Spain   \n",
       "GSM8296407                   15706           Spain   \n",
       "GSM8296408                   15706           Spain   \n",
       "GSM8296409                   15706           Spain   \n",
       "GSM8296410                   15706           Spain   \n",
       "\n",
       "                                           supplementary_file  series_id  \\\n",
       "GSM8296406  ftp://ftp.ncbi.nlm.nih.gov/geo/samples/GSM8296...  GSE268683   \n",
       "GSM8296407  ftp://ftp.ncbi.nlm.nih.gov/geo/samples/GSM8296...  GSE268683   \n",
       "GSM8296408  ftp://ftp.ncbi.nlm.nih.gov/geo/samples/GSM8296...  GSE268683   \n",
       "GSM8296409  ftp://ftp.ncbi.nlm.nih.gov/geo/samples/GSM8296...  GSE268683   \n",
       "GSM8296410  ftp://ftp.ncbi.nlm.nih.gov/geo/samples/GSM8296...  GSE268683   \n",
       "\n",
       "           data_row_count  \n",
       "GSM8296406            785  \n",
       "GSM8296407            785  \n",
       "GSM8296408            785  \n",
       "GSM8296409            785  \n",
       "GSM8296410            785  \n",
       "\n",
       "[5 rows x 38 columns]"
      ]
     },
     "execution_count": 23,
     "metadata": {},
     "output_type": "execute_result"
    }
   ],
   "source": [
    "#  Extract sample info\n",
    "metadata = gse.phenotype_data\n",
    "metadata.head()"
   ]
  },
  {
   "cell_type": "code",
   "execution_count": 24,
   "id": "c103a242-d1ab-4c90-be24-8649303dd3a2",
   "metadata": {},
   "outputs": [
    {
     "data": {
      "text/plain": [
       "characteristics_ch1.0.phenotype\n",
       "CONTROL    28\n",
       "ACD        20\n",
       "Name: count, dtype: int64"
      ]
     },
     "execution_count": 24,
     "metadata": {},
     "output_type": "execute_result"
    }
   ],
   "source": [
    "# Finding the unique values \n",
    "metadata['characteristics_ch1.0.phenotype'].value_counts()"
   ]
  },
  {
   "cell_type": "code",
   "execution_count": 25,
   "id": "c0dc98c4-046c-43de-a45c-2b567cad4205",
   "metadata": {},
   "outputs": [
    {
     "data": {
      "text/html": [
       "<div>\n",
       "<style scoped>\n",
       "    .dataframe tbody tr th:only-of-type {\n",
       "        vertical-align: middle;\n",
       "    }\n",
       "\n",
       "    .dataframe tbody tr th {\n",
       "        vertical-align: top;\n",
       "    }\n",
       "\n",
       "    .dataframe thead th {\n",
       "        text-align: right;\n",
       "    }\n",
       "</style>\n",
       "<table border=\"1\" class=\"dataframe\">\n",
       "  <thead>\n",
       "    <tr style=\"text-align: right;\">\n",
       "      <th></th>\n",
       "      <th>Condition</th>\n",
       "    </tr>\n",
       "  </thead>\n",
       "  <tbody>\n",
       "    <tr>\n",
       "      <th>GSM8296406</th>\n",
       "      <td>ACD</td>\n",
       "    </tr>\n",
       "    <tr>\n",
       "      <th>GSM8296407</th>\n",
       "      <td>ACD</td>\n",
       "    </tr>\n",
       "    <tr>\n",
       "      <th>GSM8296408</th>\n",
       "      <td>ACD</td>\n",
       "    </tr>\n",
       "    <tr>\n",
       "      <th>GSM8296409</th>\n",
       "      <td>ACD</td>\n",
       "    </tr>\n",
       "    <tr>\n",
       "      <th>GSM8296410</th>\n",
       "      <td>CONTROL</td>\n",
       "    </tr>\n",
       "  </tbody>\n",
       "</table>\n",
       "</div>"
      ],
      "text/plain": [
       "           Condition\n",
       "GSM8296406       ACD\n",
       "GSM8296407       ACD\n",
       "GSM8296408       ACD\n",
       "GSM8296409       ACD\n",
       "GSM8296410   CONTROL"
      ]
     },
     "execution_count": 25,
     "metadata": {},
     "output_type": "execute_result"
    }
   ],
   "source": [
    "# Keep only condition\n",
    "metadata_df = metadata[['characteristics_ch1.0.phenotype']]\n",
    "metadata_df = metadata_df.rename(columns={'characteristics_ch1.0.phenotype': 'Condition'})\n",
    "metadata_df.head()"
   ]
  },
  {
   "cell_type": "markdown",
   "id": "9714ad2c-d118-439d-ac99-532ed5206b43",
   "metadata": {},
   "source": [
    "## 5. Run pyDESeq2 Analysis"
   ]
  },
  {
   "cell_type": "code",
   "execution_count": 26,
   "id": "358e4ddf-6e28-40a0-be7a-e8630abb60a4",
   "metadata": {},
   "outputs": [],
   "source": [
    "# Transpose expression data so samples = rows, genes = columns\n",
    "counts_for_deseq = expression_data.transpose()\n",
    "\n",
    "# Reorder counts rows to match metadata\n",
    "counts_for_deseq = counts_for_deseq.loc[metadata_df.index]"
   ]
  },
  {
   "cell_type": "code",
   "execution_count": 27,
   "id": "7ce03e20-bc21-4d35-a2bc-bae28c67d64a",
   "metadata": {},
   "outputs": [
    {
     "name": "stderr",
     "output_type": "stream",
     "text": [
      "Fitting size factors...\n",
      "... done in 0.00 seconds.\n",
      "\n"
     ]
    },
    {
     "name": "stdout",
     "output_type": "stream",
     "text": [
      "Using None as control genes, passed at DeseqDataSet initialization\n"
     ]
    },
    {
     "name": "stderr",
     "output_type": "stream",
     "text": [
      "Fitting dispersions...\n",
      "... done in 0.55 seconds.\n",
      "\n",
      "Fitting dispersion trend curve...\n",
      "C:\\Users\\cinta\\anaconda3\\envs\\py310\\lib\\site-packages\\pydeseq2\\dds.py:807: UserWarning: The dispersion trend curve fitting did not converge. Switching to a mean-based dispersion trend.\n",
      "  self._fit_parametric_dispersion_trend(vst)\n",
      "... done in 0.04 seconds.\n",
      "\n",
      "Fitting MAP dispersions...\n",
      "... done in 0.60 seconds.\n",
      "\n",
      "Fitting LFCs...\n",
      "... done in 0.34 seconds.\n",
      "\n",
      "Calculating cook's distance...\n",
      "... done in 0.01 seconds.\n",
      "\n",
      "Replacing 29 outlier genes.\n",
      "\n",
      "Fitting dispersions...\n",
      "... done in 0.05 seconds.\n",
      "\n",
      "Fitting MAP dispersions...\n",
      "... done in 0.06 seconds.\n",
      "\n",
      "Fitting LFCs...\n",
      "... done in 0.04 seconds.\n",
      "\n"
     ]
    }
   ],
   "source": [
    "# Create DESeq2 dataset\n",
    "dds = DeseqDataSet(\n",
    "counts=counts_for_deseq,\n",
    "metadata=metadata_df,\n",
    "design=\"Condition\"\n",
    ")\n",
    "\n",
    "# Run DESeq2 analysis\n",
    "dds.deseq2()"
   ]
  },
  {
   "cell_type": "markdown",
   "id": "135e20c2-5f5f-4fd5-97cf-0aa55f7934b5",
   "metadata": {},
   "source": [
    "## 6. Extract differential expression results"
   ]
  },
  {
   "cell_type": "code",
   "execution_count": 28,
   "id": "da997600-ca84-4626-a793-e31f45a4b0e3",
   "metadata": {
    "scrolled": true
   },
   "outputs": [
    {
     "name": "stderr",
     "output_type": "stream",
     "text": [
      "Running Wald tests...\n",
      "... done in 0.15 seconds.\n",
      "\n"
     ]
    },
    {
     "name": "stdout",
     "output_type": "stream",
     "text": [
      "Log2 fold change & Wald test p-value: Condition ACD vs CONTROL\n",
      "          baseMean  log2FoldChange     lfcSE      stat    pvalue      padj\n",
      "ID_REF                                                                    \n",
      "ABCF1    36.297311        0.512575  0.293662  1.745457  0.080905  0.137190\n",
      "ACE       9.155262        0.761077  0.270871  2.809743  0.004958  0.016492\n",
      "ACKR2    10.209533        0.782365  0.296380  2.639734  0.008297  0.024123\n",
      "ACKR3    27.384326        1.069658  0.314856  3.397297  0.000681  0.003318\n",
      "ACKR4     7.588003        0.608041  0.254895  2.385459  0.017058  0.041075\n",
      "...            ...             ...       ...       ...       ...       ...\n",
      "XCL1/2    8.815814        0.086213  0.317452  0.271577  0.785947  0.837135\n",
      "XCR1     11.420863        0.333503  0.244239  1.365477  0.172103  0.248347\n",
      "YWHAQ   322.091948        1.150046  0.336302  3.419685  0.000627  0.003177\n",
      "ZAP70     7.887914        0.150312  0.263892  0.569596  0.568952  0.649894\n",
      "ZBP1     49.913058       -1.042558  0.242624 -4.297011  0.000017  0.000373\n",
      "\n",
      "[785 rows x 6 columns]\n"
     ]
    }
   ],
   "source": [
    "# Run statistical test - Specify which group vs which group\n",
    "stats = DeseqStats(dds, contrast=[\"Condition\", \"ACD\", \"CONTROL\"]) # adjust group names if needed\n",
    "stats.summary()\n",
    "\n",
    "# Get results as a DataFrame\n",
    "deg_results = stats.results_df"
   ]
  },
  {
   "cell_type": "markdown",
   "id": "a67b7a83-c488-4696-b8cd-3d41f2d2f2a8",
   "metadata": {},
   "source": [
    "## 7. Filter significant DEGs"
   ]
  },
  {
   "cell_type": "code",
   "execution_count": 29,
   "id": "1fd40415-bcd0-4639-98b7-94565acf7e5a",
   "metadata": {},
   "outputs": [
    {
     "name": "stdout",
     "output_type": "stream",
     "text": [
      "Significant genes: 166 (Up: 56, Down: 110)\n"
     ]
    }
   ],
   "source": [
    "# Define significance\n",
    "deg_results['significant'] = (deg_results['padj'] < 0.05) & (abs(deg_results['log2FoldChange']) > 1)\n",
    "\n",
    "# Filter significant DEGs\n",
    "sig_genes = deg_results[deg_results['significant']]\n",
    "\n",
    "# Upregulated and downregulated \n",
    "up = sig_genes[sig_genes['log2FoldChange'] > 0]\n",
    "down = sig_genes[sig_genes['log2FoldChange'] < 0]\n",
    "\n",
    "# Save\n",
    "sig_genes.reset_index(inplace=True)  # move index to a column\n",
    "sig_genes.to_csv(\"DEG_results.csv\", index=False)\n",
    "\n",
    "print(f\"Significant genes: {len(sig_genes)} (Up: {len(up)}, Down: {len(down)})\")"
   ]
  },
  {
   "cell_type": "markdown",
   "id": "2bf680e2-0bbb-437e-8817-7316dca31a8b",
   "metadata": {},
   "source": [
    "## 8. Visualize DEGs (Volcano Plot)"
   ]
  },
  {
   "cell_type": "code",
   "execution_count": 30,
   "id": "21844af1-3ca2-40ea-b930-dce68112f636",
   "metadata": {},
   "outputs": [
    {
     "data": {
      "image/png": "[encoded data removed]",
      "text/plain": [
       "<Figure size 600x400 with 1 Axes>"
      ]
     },
     "metadata": {},
     "output_type": "display_data"
    }
   ],
   "source": [
    "plt.figure(figsize=(6,4))\n",
    "\n",
    "# All genes in gray\n",
    "plt.scatter(deg_results['log2FoldChange'], -np.log10(deg_results['padj']),\n",
    "            color='gray', alpha=0.5,label='Not significant')\n",
    "\n",
    "# Upregulated in red\n",
    "plt.scatter(up['log2FoldChange'], -np.log10(up['padj']),\n",
    "            color='red', label='Upregulated')\n",
    "\n",
    "# Downregulated in blue\n",
    "plt.scatter(down['log2FoldChange'], -np.log10(down['padj']),\n",
    "            color='blue', label='Downregulated')\n",
    "\n",
    "# Vertical line at 0\n",
    "plt.axvline(0, color='black', linestyle='--')\n",
    "\n",
    "# Labels and title\n",
    "plt.xlabel('log2 Fold Change')\n",
    "plt.ylabel('-log10(padj)')\n",
    "plt.title('Volcano Plot of DEGs')\n",
    "\n",
    "#Legend\n",
    "plt.legend(loc='upper right')\n",
    "\n",
    "# Save and show\n",
    "plt.tight_layout()\n",
    "plt.savefig(\"volcano_plot.png\", dpi=150)\n",
    "plt.show()"
   ]
  }
 ],
 "metadata": {
  "kernelspec": {
   "display_name": "Python 3 (ipykernel)",
   "language": "python",
   "name": "python3"
  },
  "language_info": {
   "codemirror_mode": {
    "name": "ipython",
    "version": 3
   },
   "file_extension": ".py",
   "mimetype": "text/x-python",
   "name": "python",
   "nbconvert_exporter": "python",
   "pygments_lexer": "ipython3",
   "version": "3.10.18"
  }
 },
 "nbformat": 4,
 "nbformat_minor": 5
}
